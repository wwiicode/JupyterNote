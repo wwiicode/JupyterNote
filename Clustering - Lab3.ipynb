{
 "cells": [
  {
   "cell_type": "code",
   "execution_count": 1,
   "metadata": {
    "collapsed": true
   },
   "outputs": [],
   "source": [
    "import pandas as pd\n",
    "from datetime import timedelta\n",
    "from sklearn.cluster import KMeans\n",
    "import matplotlib.pyplot as plt\n",
    "import matplotlib\n",
    "\n",
    "matplotlib.style.use('ggplot')\n",
    "\n",
    "def showandtell(title=None):\n",
    "    if title != None: plt.savefig(title + \".png\", bbox_inches='tight', dpi=300)\n",
    "    plt.show()\n",
    "    exit()\n",
    "    \n",
    "def clusterInfo(model):\n",
    "    print \"Cluster Analysis Inertia: \", model.inertia_\n",
    "    print '------------------------------------------'\n",
    "    for i in range(len(model.cluster_centers_)):\n",
    "        print \"\\n Cluster \", i\n",
    "        print \"   Centroid \", model.cluster_centers_[i]\n",
    "        print \"   #Samples \", (model.labels_==1).sum() # Numpy Power\n",
    "        \n",
    "# Find the number with the least # attached nodes\n",
    "def clusterWithFewestSamples(model):\n",
    "    # Ensure there is at least one cluster....\n",
    "    minSamples = len(model.labels_)\n",
    "    minCluster = 0\n",
    "    for i in range(len(model.cluster_centers_)):\n",
    "        if \n",
    "    \n",
    "    "
   ]
  },
  {
   "cell_type": "code",
   "execution_count": null,
   "metadata": {
    "collapsed": true
   },
   "outputs": [],
   "source": []
  }
 ],
 "metadata": {
  "kernelspec": {
   "display_name": "imagescraper",
   "language": "python",
   "name": "imagescraper"
  },
  "language_info": {
   "codemirror_mode": {
    "name": "ipython",
    "version": 2
   },
   "file_extension": ".py",
   "mimetype": "text/x-python",
   "name": "python",
   "nbconvert_exporter": "python",
   "pygments_lexer": "ipython2",
   "version": "2.7.13"
  }
 },
 "nbformat": 4,
 "nbformat_minor": 2
}
